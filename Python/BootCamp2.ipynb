{
 "cells": [
  {
   "cell_type": "code",
   "execution_count": 4,
   "id": "e98993c0",
   "metadata": {},
   "outputs": [
    {
     "name": "stdout",
     "output_type": "stream",
     "text": [
      "['P']\n",
      "['P', 'y']\n",
      "['P', 'y', 't']\n",
      "['P', 'y', 't', 'h']\n",
      "['P', 'y', 't', 'h', 'o']\n",
      "['P', 'y', 't', 'h', 'o', 'n']\n",
      "['P', 'y', 't', 'h', 'o', 'n', ' ']\n",
      "['P', 'y', 't', 'h', 'o', 'n', ' ', 'f']\n",
      "['P', 'y', 't', 'h', 'o', 'n', ' ', 'f', 'o']\n",
      "['P', 'y', 't', 'h', 'o', 'n', ' ', 'f', 'o', 'r']\n",
      "['P', 'y', 't', 'h', 'o', 'n', ' ', 'f', 'o', 'r', ' ']\n",
      "['P', 'y', 't', 'h', 'o', 'n', ' ', 'f', 'o', 'r', ' ', 'E']\n",
      "['P', 'y', 't', 'h', 'o', 'n', ' ', 'f', 'o', 'r', ' ', 'E', 'v']\n",
      "['P', 'y', 't', 'h', 'o', 'n', ' ', 'f', 'o', 'r', ' ', 'E', 'v', 'e']\n",
      "['P', 'y', 't', 'h', 'o', 'n', ' ', 'f', 'o', 'r', ' ', 'E', 'v', 'e', 'r']\n",
      "['P', 'y', 't', 'h', 'o', 'n', ' ', 'f', 'o', 'r', ' ', 'E', 'v', 'e', 'r', 'y']\n",
      "['P', 'y', 't', 'h', 'o', 'n', ' ', 'f', 'o', 'r', ' ', 'E', 'v', 'e', 'r', 'y', 'b']\n",
      "['P', 'y', 't', 'h', 'o', 'n', ' ', 'f', 'o', 'r', ' ', 'E', 'v', 'e', 'r', 'y', 'b', 'o']\n",
      "['P', 'y', 't', 'h', 'o', 'n', ' ', 'f', 'o', 'r', ' ', 'E', 'v', 'e', 'r', 'y', 'b', 'o', 'd']\n",
      "['P', 'y', 't', 'h', 'o', 'n', ' ', 'f', 'o', 'r', ' ', 'E', 'v', 'e', 'r', 'y', 'b', 'o', 'd', 'y']\n"
     ]
    }
   ],
   "source": [
    "#List Comprehensions\n",
    "\n",
    "course = \"Python for Everybody\"\n",
    "mylist = []\n",
    "for letter in course:\n",
    "    mylist.append(letter)\n",
    "    print(mylist)"
   ]
  },
  {
   "cell_type": "code",
   "execution_count": 5,
   "id": "623c6712",
   "metadata": {},
   "outputs": [],
   "source": [
    "mylist2= [letter for letter in course]"
   ]
  },
  {
   "cell_type": "code",
   "execution_count": 6,
   "id": "e476e324",
   "metadata": {},
   "outputs": [
    {
     "name": "stdout",
     "output_type": "stream",
     "text": [
      "['P', 'y', 't', 'h', 'o', 'n', ' ', 'f', 'o', 'r', ' ', 'E', 'v', 'e', 'r', 'y', 'b', 'o', 'd', 'y']\n"
     ]
    }
   ],
   "source": [
    "print(mylist2)"
   ]
  },
  {
   "cell_type": "code",
   "execution_count": 7,
   "id": "e08285a3",
   "metadata": {},
   "outputs": [],
   "source": [
    "vowels = [letter for letter in course if letter in 'aeiouy']"
   ]
  },
  {
   "cell_type": "code",
   "execution_count": 8,
   "id": "382085f2",
   "metadata": {},
   "outputs": [
    {
     "data": {
      "text/plain": [
       "['y', 'o', 'o', 'e', 'y', 'o', 'y']"
      ]
     },
     "execution_count": 8,
     "metadata": {},
     "output_type": "execute_result"
    }
   ],
   "source": [
    "vowels"
   ]
  },
  {
   "cell_type": "code",
   "execution_count": 9,
   "id": "623f6b09",
   "metadata": {},
   "outputs": [],
   "source": [
    "#Exponents\n",
    "numbers = [num**2 for num in range(0,9)]"
   ]
  },
  {
   "cell_type": "code",
   "execution_count": 10,
   "id": "34ad89e7",
   "metadata": {},
   "outputs": [
    {
     "data": {
      "text/plain": [
       "[0, 1, 4, 9, 16, 25, 36, 49, 64]"
      ]
     },
     "execution_count": 10,
     "metadata": {},
     "output_type": "execute_result"
    }
   ],
   "source": [
    "numbers"
   ]
  },
  {
   "cell_type": "code",
   "execution_count": 12,
   "id": "455b408a",
   "metadata": {},
   "outputs": [
    {
     "name": "stdout",
     "output_type": "stream",
     "text": [
      "[-40.0, -4.0, 32.0, 50.0, 59.0, 77.0, 95.0, 122.0]\n"
     ]
    }
   ],
   "source": [
    "#More comprehension\n",
    "Fahrenheit = []\n",
    "Celsius = [-40, -20, 0, 10, 15, 25, 35, 50]\n",
    "for temp in Celsius:\n",
    "    temp = (temp*1.8) + 32\n",
    "    Fahrenheit.append(temp)\n",
    "print(Fahrenheit)"
   ]
  },
  {
   "cell_type": "code",
   "execution_count": 13,
   "id": "00907cad",
   "metadata": {},
   "outputs": [
    {
     "name": "stdout",
     "output_type": "stream",
     "text": [
      "[-40.0, -4.0, 32.0, 50.0, 59.0, 77.0, 95.0, 122.0]\n"
     ]
    }
   ],
   "source": [
    "#Same code but way shorter\n",
    "Celsius = [-40, -20, 0, 10, 15, 25, 35, 50]\n",
    "Farenheit = [(temp*1.8) + 32 for temp in Celsius]\n",
    "print(Farenheit)"
   ]
  },
  {
   "cell_type": "code",
   "execution_count": 14,
   "id": "eb561bdf",
   "metadata": {},
   "outputs": [],
   "source": [
    "#Create your own function\n",
    "def greeting(name):\n",
    "    return f\"Welcome to Python for Everybody, {name}\""
   ]
  },
  {
   "cell_type": "code",
   "execution_count": 15,
   "id": "48879c7d",
   "metadata": {},
   "outputs": [
    {
     "data": {
      "text/plain": [
       "'Welcome to Python for Everybody, Henry'"
      ]
     },
     "execution_count": 15,
     "metadata": {},
     "output_type": "execute_result"
    }
   ],
   "source": [
    "greeting('Henry')"
   ]
  },
  {
   "cell_type": "code",
   "execution_count": 16,
   "id": "09487682",
   "metadata": {},
   "outputs": [],
   "source": [
    "sentence = greeting('Henry')"
   ]
  },
  {
   "cell_type": "code",
   "execution_count": 17,
   "id": "f47c9b88",
   "metadata": {},
   "outputs": [
    {
     "data": {
      "text/plain": [
       "'Welcome to Python for Everybody, Henry'"
      ]
     },
     "execution_count": 17,
     "metadata": {},
     "output_type": "execute_result"
    }
   ],
   "source": [
    "sentence"
   ]
  },
  {
   "cell_type": "code",
   "execution_count": 18,
   "id": "6ee2a4ff",
   "metadata": {},
   "outputs": [
    {
     "data": {
      "text/plain": [
       "5"
      ]
     },
     "execution_count": 18,
     "metadata": {},
     "output_type": "execute_result"
    }
   ],
   "source": [
    "sentence.count('o')"
   ]
  },
  {
   "cell_type": "code",
   "execution_count": 19,
   "id": "03d49ffd",
   "metadata": {},
   "outputs": [
    {
     "data": {
      "text/plain": [
       "'WELCOME TO PYTHON FOR EVERYBODY, HENRY'"
      ]
     },
     "execution_count": 19,
     "metadata": {},
     "output_type": "execute_result"
    }
   ],
   "source": [
    "sentence.upper()"
   ]
  },
  {
   "cell_type": "code",
   "execution_count": 23,
   "id": "c3e21787",
   "metadata": {},
   "outputs": [],
   "source": [
    "def can_drink(age):\n",
    "    if age >= 18:\n",
    "        return True\n",
    "    else:\n",
    "        return False"
   ]
  },
  {
   "cell_type": "code",
   "execution_count": 21,
   "id": "86b92f84",
   "metadata": {},
   "outputs": [],
   "source": [
    "can_Raul_drink = can_drink(31)"
   ]
  },
  {
   "cell_type": "code",
   "execution_count": 22,
   "id": "8a00fd8e",
   "metadata": {},
   "outputs": [
    {
     "data": {
      "text/plain": [
       "True"
      ]
     },
     "execution_count": 22,
     "metadata": {},
     "output_type": "execute_result"
    }
   ],
   "source": [
    "can_Raul_drink"
   ]
  },
  {
   "cell_type": "code",
   "execution_count": 25,
   "id": "69bf6622",
   "metadata": {},
   "outputs": [],
   "source": [
    "def greeting(name=\"Thor\"):\n",
    "    print(\"Hello \", name)"
   ]
  },
  {
   "cell_type": "code",
   "execution_count": 26,
   "id": "c9510aa2",
   "metadata": {},
   "outputs": [
    {
     "name": "stdout",
     "output_type": "stream",
     "text": [
      "Hello  Thor\n"
     ]
    }
   ],
   "source": [
    "greeting()"
   ]
  },
  {
   "cell_type": "code",
   "execution_count": 27,
   "id": "d4c90849",
   "metadata": {},
   "outputs": [
    {
     "name": "stdout",
     "output_type": "stream",
     "text": [
      "Hello  Raul\n"
     ]
    }
   ],
   "source": [
    "greeting(\"Raul\")"
   ]
  },
  {
   "cell_type": "code",
   "execution_count": 30,
   "id": "666a1fd0",
   "metadata": {},
   "outputs": [],
   "source": [
    "#Second Example:\n",
    "def create_person(name, age, role='Student', required_books=5):\n",
    "    person = {\n",
    "        'person_name' : name,\n",
    "        'age': age,\n",
    "        'role' : role,\n",
    "        'total_books' : required_books,\n",
    "    }\n",
    "    return person"
   ]
  },
  {
   "cell_type": "code",
   "execution_count": 31,
   "id": "7f02788a",
   "metadata": {},
   "outputs": [],
   "source": [
    "raul = create_person(\"Raul\", 31, role='Student')"
   ]
  },
  {
   "cell_type": "code",
   "execution_count": 32,
   "id": "a9ebd14d",
   "metadata": {},
   "outputs": [
    {
     "data": {
      "text/plain": [
       "{'person_name': 'Raul', 'age': 31, 'role': 'Student', 'total_books': 5}"
      ]
     },
     "execution_count": 32,
     "metadata": {},
     "output_type": "execute_result"
    }
   ],
   "source": [
    "raul"
   ]
  },
  {
   "cell_type": "code",
   "execution_count": 33,
   "id": "9a439146",
   "metadata": {},
   "outputs": [],
   "source": [
    "def pers_age(age):\n",
    "    print(f'You are {age} years old')"
   ]
  },
  {
   "cell_type": "code",
   "execution_count": 34,
   "id": "290619f8",
   "metadata": {},
   "outputs": [
    {
     "name": "stdout",
     "output_type": "stream",
     "text": [
      "You are 31 years old\n"
     ]
    }
   ],
   "source": [
    "pers_age(31)"
   ]
  },
  {
   "cell_type": "code",
   "execution_count": null,
   "id": "e4cbe7e4",
   "metadata": {},
   "outputs": [],
   "source": []
  }
 ],
 "metadata": {
  "kernelspec": {
   "display_name": "Python 3 (ipykernel)",
   "language": "python",
   "name": "python3"
  },
  "language_info": {
   "codemirror_mode": {
    "name": "ipython",
    "version": 3
   },
   "file_extension": ".py",
   "mimetype": "text/x-python",
   "name": "python",
   "nbconvert_exporter": "python",
   "pygments_lexer": "ipython3",
   "version": "3.8.2"
  }
 },
 "nbformat": 4,
 "nbformat_minor": 5
}
