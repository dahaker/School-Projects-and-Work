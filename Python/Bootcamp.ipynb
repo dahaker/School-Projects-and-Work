{
 "cells": [
  {
   "cell_type": "code",
   "execution_count": 1,
   "id": "0c3c73d4",
   "metadata": {},
   "outputs": [],
   "source": [
    "course = {\n",
    "    'name' : 'Python programming for beginners',\n",
    "    'students': 50_000,\n",
    "    'length': 12.5,\n",
    "    'lessons': [\n",
    "        'Strings', 'Lists', 'Dictionaries','If Statements',\n",
    "    ]\n",
    "}"
   ]
  },
  {
   "cell_type": "code",
   "execution_count": 2,
   "id": "fa075471",
   "metadata": {},
   "outputs": [
    {
     "data": {
      "text/plain": [
       "{'name': 'Python programming for beginners',\n",
       " 'students': 50000,\n",
       " 'length': 12.5,\n",
       " 'lessons': ['Strings', 'Lists', 'Dictionaries', 'If Statements']}"
      ]
     },
     "execution_count": 2,
     "metadata": {},
     "output_type": "execute_result"
    }
   ],
   "source": [
    "course"
   ]
  },
  {
   "cell_type": "code",
   "execution_count": 3,
   "id": "3e416b9d",
   "metadata": {},
   "outputs": [],
   "source": [
    "del course['length']"
   ]
  },
  {
   "cell_type": "code",
   "execution_count": 4,
   "id": "7916b731",
   "metadata": {},
   "outputs": [
    {
     "data": {
      "text/plain": [
       "{'name': 'Python programming for beginners',\n",
       " 'students': 50000,\n",
       " 'lessons': ['Strings', 'Lists', 'Dictionaries', 'If Statements']}"
      ]
     },
     "execution_count": 4,
     "metadata": {},
     "output_type": "execute_result"
    }
   ],
   "source": [
    "course"
   ]
  },
  {
   "cell_type": "code",
   "execution_count": 5,
   "id": "9d4d953b",
   "metadata": {},
   "outputs": [
    {
     "data": {
      "text/plain": [
       "dict"
      ]
     },
     "execution_count": 5,
     "metadata": {},
     "output_type": "execute_result"
    }
   ],
   "source": [
    "type(course)"
   ]
  },
  {
   "cell_type": "code",
   "execution_count": 7,
   "id": "fb995a49",
   "metadata": {},
   "outputs": [],
   "source": [
    "person = {\n",
    "    'Raulkey': 'RaulValue'\n",
    "}"
   ]
  },
  {
   "cell_type": "code",
   "execution_count": 8,
   "id": "9c9afae1",
   "metadata": {},
   "outputs": [
    {
     "data": {
      "text/plain": [
       "dict"
      ]
     },
     "execution_count": 8,
     "metadata": {},
     "output_type": "execute_result"
    }
   ],
   "source": [
    "type(person)"
   ]
  },
  {
   "cell_type": "code",
   "execution_count": 13,
   "id": "3c9dc4ad",
   "metadata": {},
   "outputs": [],
   "source": [
    "languages = ['python','javascript','c++','swift']"
   ]
  },
  {
   "cell_type": "code",
   "execution_count": 15,
   "id": "80c99eb2",
   "metadata": {},
   "outputs": [
    {
     "data": {
      "text/plain": [
       "['python', 'javascript', 'c++', 'swift']"
      ]
     },
     "execution_count": 15,
     "metadata": {},
     "output_type": "execute_result"
    }
   ],
   "source": [
    "languages"
   ]
  },
  {
   "cell_type": "code",
   "execution_count": 16,
   "id": "38fe2d0b",
   "metadata": {},
   "outputs": [
    {
     "name": "stdout",
     "output_type": "stream",
     "text": [
      "1 python\n",
      "2 javascript\n",
      "3 c++\n",
      "4 swift\n"
     ]
    }
   ],
   "source": [
    "for index, lang in enumerate(languages): #enumerate is used for that, enumerate something on a list\n",
    "    print(index + 1, lang)              #Index is used to index the list from a number down"
   ]
  },
  {
   "cell_type": "code",
   "execution_count": 19,
   "id": "fbb425fc",
   "metadata": {},
   "outputs": [],
   "source": [
    "#Zipping\n",
    "list1 = ['a','b','c']\n",
    "list2 = [1,2,3]"
   ]
  },
  {
   "cell_type": "code",
   "execution_count": 20,
   "id": "7132ad64",
   "metadata": {},
   "outputs": [
    {
     "name": "stdout",
     "output_type": "stream",
     "text": [
      "a  =>  1\n",
      "b  =>  2\n",
      "c  =>  3\n"
     ]
    }
   ],
   "source": [
    "for letter, number in zip(list1,list2):\n",
    "    print(letter, \" => \", number)"
   ]
  },
  {
   "cell_type": "code",
   "execution_count": 21,
   "id": "59411e5c",
   "metadata": {},
   "outputs": [
    {
     "data": {
      "text/plain": [
       "['a', 'b', 'c']"
      ]
     },
     "execution_count": 21,
     "metadata": {},
     "output_type": "execute_result"
    }
   ],
   "source": [
    "list1"
   ]
  },
  {
   "cell_type": "code",
   "execution_count": 22,
   "id": "c980e099",
   "metadata": {},
   "outputs": [
    {
     "data": {
      "text/plain": [
       "'a'"
      ]
     },
     "execution_count": 22,
     "metadata": {},
     "output_type": "execute_result"
    }
   ],
   "source": [
    "min(list1)"
   ]
  },
  {
   "cell_type": "code",
   "execution_count": 23,
   "id": "3aefdb96",
   "metadata": {},
   "outputs": [
    {
     "data": {
      "text/plain": [
       "'c'"
      ]
     },
     "execution_count": 23,
     "metadata": {},
     "output_type": "execute_result"
    }
   ],
   "source": [
    "max(list1)"
   ]
  },
  {
   "cell_type": "code",
   "execution_count": 24,
   "id": "650f8c1d",
   "metadata": {},
   "outputs": [
    {
     "data": {
      "text/plain": [
       "'a->b->c'"
      ]
     },
     "execution_count": 24,
     "metadata": {},
     "output_type": "execute_result"
    }
   ],
   "source": [
    "#Convert or join the list items to a string\n",
    "\n",
    "'->'.join(list1)"
   ]
  },
  {
   "cell_type": "code",
   "execution_count": 33,
   "id": "263135d8",
   "metadata": {},
   "outputs": [],
   "source": [
    "#Split strings\n",
    "course= 'Python for Everybody'\n",
    "words= course.split(' ')"
   ]
  },
  {
   "cell_type": "code",
   "execution_count": 34,
   "id": "93391422",
   "metadata": {},
   "outputs": [
    {
     "data": {
      "text/plain": [
       "['Python', 'for', 'Everybody']"
      ]
     },
     "execution_count": 34,
     "metadata": {},
     "output_type": "execute_result"
    }
   ],
   "source": [
    "words"
   ]
  },
  {
   "cell_type": "code",
   "execution_count": 35,
   "id": "adc3e84f",
   "metadata": {},
   "outputs": [],
   "source": [
    "#Sort the strings,upper-case go first\n",
    "words.sort()"
   ]
  },
  {
   "cell_type": "code",
   "execution_count": 36,
   "id": "19e21017",
   "metadata": {},
   "outputs": [
    {
     "data": {
      "text/plain": [
       "['Everybody', 'Python', 'for']"
      ]
     },
     "execution_count": 36,
     "metadata": {},
     "output_type": "execute_result"
    }
   ],
   "source": [
    "words"
   ]
  },
  {
   "cell_type": "code",
   "execution_count": 37,
   "id": "c890a1d3",
   "metadata": {},
   "outputs": [],
   "source": [
    "#To shuffle\n",
    "from random import shuffle"
   ]
  },
  {
   "cell_type": "code",
   "execution_count": 38,
   "id": "20b874c6",
   "metadata": {},
   "outputs": [
    {
     "data": {
      "text/plain": [
       "['Everybody', 'Python', 'for']"
      ]
     },
     "execution_count": 38,
     "metadata": {},
     "output_type": "execute_result"
    }
   ],
   "source": [
    "words"
   ]
  },
  {
   "cell_type": "code",
   "execution_count": 39,
   "id": "56358a53",
   "metadata": {},
   "outputs": [],
   "source": [
    "shuffle(words)"
   ]
  },
  {
   "cell_type": "code",
   "execution_count": 40,
   "id": "d2dc86f6",
   "metadata": {},
   "outputs": [
    {
     "data": {
      "text/plain": [
       "['for', 'Python', 'Everybody']"
      ]
     },
     "execution_count": 40,
     "metadata": {},
     "output_type": "execute_result"
    }
   ],
   "source": [
    "words"
   ]
  },
  {
   "cell_type": "code",
   "execution_count": null,
   "id": "5afcddeb",
   "metadata": {},
   "outputs": [],
   "source": []
  },
  {
   "cell_type": "code",
   "execution_count": null,
   "id": "24001620",
   "metadata": {},
   "outputs": [],
   "source": []
  },
  {
   "cell_type": "code",
   "execution_count": null,
   "id": "415e2a34",
   "metadata": {},
   "outputs": [],
   "source": []
  },
  {
   "cell_type": "code",
   "execution_count": null,
   "id": "afa8cbb6",
   "metadata": {},
   "outputs": [],
   "source": []
  },
  {
   "cell_type": "code",
   "execution_count": null,
   "id": "22d9358b",
   "metadata": {},
   "outputs": [],
   "source": []
  },
  {
   "cell_type": "code",
   "execution_count": null,
   "id": "7ffc6502",
   "metadata": {},
   "outputs": [],
   "source": []
  },
  {
   "cell_type": "code",
   "execution_count": null,
   "id": "25259463",
   "metadata": {},
   "outputs": [],
   "source": []
  },
  {
   "cell_type": "code",
   "execution_count": 14,
   "id": "4b3cacc8",
   "metadata": {},
   "outputs": [
    {
     "data": {
      "text/plain": [
       "list"
      ]
     },
     "execution_count": 14,
     "metadata": {},
     "output_type": "execute_result"
    }
   ],
   "source": []
  },
  {
   "cell_type": "code",
   "execution_count": null,
   "id": "0d7fb500",
   "metadata": {},
   "outputs": [],
   "source": []
  },
  {
   "cell_type": "code",
   "execution_count": null,
   "id": "38d23780",
   "metadata": {},
   "outputs": [],
   "source": []
  },
  {
   "cell_type": "code",
   "execution_count": null,
   "id": "46f3fcdf",
   "metadata": {},
   "outputs": [],
   "source": []
  },
  {
   "cell_type": "code",
   "execution_count": null,
   "id": "420c683e",
   "metadata": {},
   "outputs": [],
   "source": []
  }
 ],
 "metadata": {
  "kernelspec": {
   "display_name": "Python 3 (ipykernel)",
   "language": "python",
   "name": "python3"
  },
  "language_info": {
   "codemirror_mode": {
    "name": "ipython",
    "version": 3
   },
   "file_extension": ".py",
   "mimetype": "text/x-python",
   "name": "python",
   "nbconvert_exporter": "python",
   "pygments_lexer": "ipython3",
   "version": "3.8.2"
  }
 },
 "nbformat": 4,
 "nbformat_minor": 5
}
